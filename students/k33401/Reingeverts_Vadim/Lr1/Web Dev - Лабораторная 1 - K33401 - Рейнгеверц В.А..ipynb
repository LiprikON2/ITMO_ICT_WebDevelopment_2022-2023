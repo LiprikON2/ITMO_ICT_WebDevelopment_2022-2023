{
 "cells": [
  {
   "cell_type": "markdown",
   "metadata": {},
   "source": [
    "# Лабораторная работа 1\n",
    "\n",
    "## Задание 1\n",
    "\n",
    "### Описание\n",
    "\n",
    "Реализовать клиентскую и серверную часть приложения. Клиент отсылает серверу\n",
    "сообщение «Hello, server». Сообщение должно отразиться на стороне сервера.\n",
    "Сервер в ответ отсылает клиенту сообщение «Hello, client». Сообщение должно\n",
    "отобразиться у клиента.\n",
    "\n",
    "- Обязательно использовать библиотеку `socket`\n",
    "- Реализовать с помощью протокола UDP\n",
    "\n",
    "Полезные ссылки:\n",
    "-  https://habr.com/ru/post/149077/\n",
    "-  https://andreymal.org/socket3/\n",
    "-  https://docs.python.org/3.6/howto/sockets.html\n",
    "-  https://docs.python.org/3.6/library/socket.html\n",
    "-  https://www.youtube.com/watch?v=Lbfe3-v7yE0"
   ]
  },
  {
   "cell_type": "markdown",
   "metadata": {},
   "source": [
    "### Код\n",
    "#### Server"
   ]
  },
  {
   "cell_type": "code",
   "execution_count": 3,
   "metadata": {},
   "outputs": [
    {
     "name": "stdout",
     "output_type": "stream",
     "text": [
      "Started server at tcp://127.0.0.1:12346\n",
      "Stopping server...\n"
     ]
    }
   ],
   "source": [
    "# %load \"Task 1/server.py\"\n",
    "import socket\n",
    "\n",
    "\n",
    "# UDP\n",
    "sock = socket.socket(socket.AF_INET, socket.SOCK_DGRAM)\n",
    "# Ensures that port is always ready to be used again\n",
    "sock.setsockopt(socket.SOL_SOCKET, socket.SO_REUSEADDR, 1)\n",
    "sock.bind(('localhost', 12346))\n",
    "\n",
    "# Makes keyboard interrupt possible at all times\n",
    "sock.settimeout(1.0)\n",
    "\n",
    "print(\n",
    "    f\"Started server at udp://{sock.getsockname()[0]}:{sock.getsockname()[1]}\")\n",
    "\n",
    "while True:\n",
    "    try:\n",
    "        connection, client_address = None, None\n",
    "        try:\n",
    "            connection, client_address = sock.recvfrom(2048)\n",
    "        # Handle timeout\n",
    "        except IOError:\n",
    "            continue\n",
    "\n",
    "        data = connection.decode('utf-8')\n",
    "        print('Recived:', data)\n",
    "\n",
    "        sock.sendto(b\"Hello, client\", client_address)\n",
    "\n",
    "    except KeyboardInterrupt:\n",
    "        print(\"Stopping server...\")\n",
    "        if connection:\n",
    "            connection.close()\n",
    "        break\n",
    "sock.close()\n"
   ]
  },
  {
   "cell_type": "markdown",
   "metadata": {},
   "source": [
    "#### Client\n",
    "Так как Jupyter не хочет запускать cells в параллели, клиент запускается через командную строку:"
   ]
  },
  {
   "cell_type": "markdown",
   "metadata": {},
   "source": [
    "python \"./students/k33401/Reingeverts_Vadim/Lr1/Task 1/client.py\""
   ]
  },
  {
   "cell_type": "code",
   "execution_count": 5,
   "metadata": {},
   "outputs": [
    {
     "name": "stdout",
     "output_type": "stream",
     "text": [
      "Could not connect to the server\n"
     ]
    }
   ],
   "source": [
    "# %load \"Task 1/client.py\"\n",
    "import socket\n",
    "\n",
    "# UDP\n",
    "sock = socket.socket(socket.AF_INET, socket.SOCK_DGRAM)\n",
    "sock.connect(('localhost', 12346))\n",
    "\n",
    "sock.send(b\"Hello, server\")\n",
    "\n",
    "try:\n",
    "    connection = sock.recv(2048)\n",
    "    data = connection.decode('utf-8')\n",
    "    print('Recived:', data)\n",
    "except ConnectionResetError:\n",
    "    print(\"Could not connect to the server\")\n",
    "\n",
    "sock.close()\n"
   ]
  },
  {
   "cell_type": "markdown",
   "metadata": {},
   "source": [
    "## Задание 2\n",
    "\n",
    "### Описание\n",
    "\n",
    "Реализовать клиентскую и серверную часть приложения. Клиент запрашивает у\n",
    "сервера выполнение математической операции, параметры, которые вводятся с\n",
    "клавиатуры. Сервер обрабатывает полученные данные и возвращает результат\n",
    "клиенту. Варианты:\n",
    "\n",
    "1. **Теорема Пифагора**\n",
    "2. Решение квадратного уравнения.\n",
    "3. Поиск площади трапеции.\n",
    "4. Поиск площади параллелограмма.\n",
    "\n",
    "Вариант выбирается в соответствии с порядковым номером в журнале. Пятый\n",
    "студент получает вариант 1 и т.д.\n",
    "\n",
    "- Обязательно использовать библиотеку `socket`\n",
    "- Реализовать с помощью протокола TCP"
   ]
  },
  {
   "cell_type": "markdown",
   "metadata": {},
   "source": [
    "### Код\n",
    "#### Server"
   ]
  },
  {
   "cell_type": "code",
   "execution_count": 19,
   "metadata": {},
   "outputs": [
    {
     "name": "stdout",
     "output_type": "stream",
     "text": [
      "Started server at tcp://127.0.0.1:12346\n",
      "Recived:\n",
      "a\n",
      "2.0\n",
      "2.0\n",
      "\n",
      "Sending response: 0.0\n"
     ]
    }
   ],
   "source": [
    "# %load \"Task 2/server.py\"\n",
    "import socket\n",
    "from math import sqrt\n",
    "\n",
    "\n",
    "def calc_pythagorean_equation(solveFor, x, y):\n",
    "    solution = None\n",
    "    x = float(x)\n",
    "    y = float(y)\n",
    "    \n",
    "    if solveFor == \"a\":\n",
    "        solution = sqrt(y**2 - x**2)\n",
    "    elif solveFor == \"b\":\n",
    "        solution = sqrt(y**2 - x**2)\n",
    "    else:\n",
    "        solution = sqrt(x**2 + y**2)\n",
    "    return solution\n",
    "\n",
    "\n",
    "# TCP\n",
    "sock = socket.socket(socket.AF_INET, socket.SOCK_STREAM)\n",
    "# Ensures that port is always ready to be used again\n",
    "sock.setsockopt(socket.SOL_SOCKET, socket.SO_REUSEADDR, 1)\n",
    "sock.bind(('localhost', 12346))\n",
    "\n",
    "\n",
    "# Makes keyboard interrupt possible at all times\n",
    "sock.settimeout(1.0)\n",
    "sock.listen(10)\n",
    "\n",
    "print(\n",
    "    f\"Started server at tcp://{sock.getsockname()[0]}:{sock.getsockname()[1]}\")\n",
    "\n",
    "while True:\n",
    "    try:\n",
    "        connection, client_address = None, None\n",
    "        try:\n",
    "            connection, client_address = sock.accept()\n",
    "        # Handle timeout\n",
    "        except IOError:\n",
    "            continue\n",
    "        data = connection.recv(2048)\n",
    "        data = data.decode('utf-8')\n",
    "        print('Recived:\\n' + data)\n",
    "\n",
    "        solveFor, x, y, _ = data.split(\"\\n\")\n",
    "        solution = calc_pythagorean_equation(solveFor, x, y)\n",
    "\n",
    "        print(\"Sending response:\", solution)\n",
    "        connection.send(str(solution).encode('utf-8'))\n",
    "\n",
    "    except KeyboardInterrupt:\n",
    "        print(\"Stopping server...\")\n",
    "        if connection:\n",
    "            connection.close()\n",
    "        break\n",
    "sock.close()\n"
   ]
  },
  {
   "cell_type": "markdown",
   "metadata": {},
   "source": [
    "#### Client\n",
    "Так как Jupyter не хочет запускать cells в параллели, клиент запускается через командную строку:"
   ]
  },
  {
   "cell_type": "markdown",
   "metadata": {},
   "source": [
    "python \"./students/k33401/Reingeverts_Vadim/Lr1/Task 2/client.py\""
   ]
  },
  {
   "cell_type": "code",
   "execution_count": 12,
   "metadata": {},
   "outputs": [
    {
     "name": "stdout",
     "output_type": "stream",
     "text": [
      "Could not connect to the server\n"
     ]
    }
   ],
   "source": [
    "# %load \"Task 2/client.py\"\n",
    "import socket\n",
    "\n",
    "# TCP\n",
    "sock = socket.socket(socket.AF_INET, socket.SOCK_STREAM)\n",
    "try:\n",
    "    sock.connect(('localhost', 12346))\n",
    "    sock.send(b\"Hello, server\")\n",
    "\n",
    "    connection = sock.recv(2048)\n",
    "    data = connection.decode('utf-8')\n",
    "    print('Recived:', data)\n",
    "except ConnectionRefusedError:\n",
    "    print(\"Could not connect to the server\")\n",
    "\n",
    "\n",
    "sock.close()"
   ]
  }
 ],
 "metadata": {
  "kernelspec": {
   "display_name": "Python 3.7.4 64-bit",
   "language": "python",
   "name": "python3"
  },
  "language_info": {
   "codemirror_mode": {
    "name": "ipython",
    "version": 3
   },
   "file_extension": ".py",
   "mimetype": "text/x-python",
   "name": "python",
   "nbconvert_exporter": "python",
   "pygments_lexer": "ipython3",
   "version": "3.7.4"
  },
  "orig_nbformat": 4,
  "vscode": {
   "interpreter": {
    "hash": "5109d816b82be14675a6b11f8e0f0d2e80f029176ed3710d54e125caa8520dfd"
   }
  }
 },
 "nbformat": 4,
 "nbformat_minor": 2
}
