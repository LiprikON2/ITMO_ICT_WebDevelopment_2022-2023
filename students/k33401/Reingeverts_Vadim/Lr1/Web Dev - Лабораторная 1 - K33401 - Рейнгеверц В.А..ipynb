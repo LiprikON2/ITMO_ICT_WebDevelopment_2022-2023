{
 "cells": [
  {
   "cell_type": "markdown",
   "metadata": {},
   "source": [
    "# Лабораторная работа 1\n",
    "\n",
    "## Задание 1\n",
    "\n",
    "### Описание\n",
    "\n",
    "Реализовать клиентскую и серверную часть приложения. Клиент отсылает серверу\n",
    "сообщение «Hello, server». Сообщение должно отразиться на стороне сервера.\n",
    "Сервер в ответ отсылает клиенту сообщение «Hello, client». Сообщение должно\n",
    "отобразиться у клиента.\n",
    "\n",
    "- Обязательно использовать библиотеку `socket`\n",
    "- Реализовать с помощью протокола UDP\n",
    "\n",
    "Полезные ссылки:\n",
    "-  https://habr.com/ru/post/149077/\n",
    "-  https://andreymal.org/socket3/\n",
    "-  https://docs.python.org/3.6/howto/sockets.html\n",
    "-  https://docs.python.org/3.6/library/socket.html\n",
    "-  https://www.youtube.com/watch?v=Lbfe3-v7yE0"
   ]
  },
  {
   "cell_type": "markdown",
   "metadata": {},
   "source": [
    "### Код\n",
    "#### Server"
   ]
  },
  {
   "cell_type": "code",
   "execution_count": 18,
   "metadata": {},
   "outputs": [
    {
     "name": "stdout",
     "output_type": "stream",
     "text": [
      "Started server at udp://127.0.0.1:12346\n",
      "Recived: Hello, server\n",
      "Recived: Hello, server\n",
      "Recived: Hello, server\n",
      "Stopping server...\n"
     ]
    }
   ],
   "source": [
    "# %load \"Task 1/server.py\"\n",
    "import socket\n",
    "\n",
    "\n",
    "# UDP\n",
    "sock = socket.socket(socket.AF_INET, socket.SOCK_DGRAM)\n",
    "# Ensures that port is always ready to be used again\n",
    "sock.setsockopt(socket.SOL_SOCKET, socket.SO_REUSEADDR, 1)\n",
    "sock.bind(('localhost', 12346))\n",
    "\n",
    "# Makes keyboard interrupt possible at all times\n",
    "sock.settimeout(1.0)\n",
    "\n",
    "print(\n",
    "    f\"Started server at udp://{sock.getsockname()[0]}:{sock.getsockname()[1]}\")\n",
    "\n",
    "while True:\n",
    "    try:\n",
    "        connection, client_address = None, None\n",
    "        try:\n",
    "            connection, client_address = sock.recvfrom(2048)\n",
    "        # Handle timeout\n",
    "        except IOError:\n",
    "            continue\n",
    "\n",
    "        data = connection.decode('utf-8')\n",
    "        print('Recived:', data)\n",
    "\n",
    "        sock.sendto(b\"Hello, client\", client_address)\n",
    "\n",
    "    except KeyboardInterrupt:\n",
    "        print(\"Stopping server...\")\n",
    "        if connection:\n",
    "            connection.close()\n",
    "        break\n",
    "sock.close()\n"
   ]
  },
  {
   "cell_type": "markdown",
   "metadata": {},
   "source": [
    "#### Client\n",
    "Так как Jupyter не хочет запускать cells в параллели, клиент запускается через командную строку:"
   ]
  },
  {
   "cell_type": "markdown",
   "metadata": {},
   "source": [
    "python \"./students/k33401/Reingeverts_Vadim/Lr1/Task 1/client.py\""
   ]
  },
  {
   "cell_type": "code",
   "execution_count": 5,
   "metadata": {},
   "outputs": [
    {
     "name": "stdout",
     "output_type": "stream",
     "text": [
      "Could not connect to the server\n"
     ]
    }
   ],
   "source": [
    "# %load \"Task 1/client.py\"\n",
    "import socket\n",
    "\n",
    "# UDP\n",
    "sock = socket.socket(socket.AF_INET, socket.SOCK_DGRAM)\n",
    "sock.connect(('localhost', 12346))\n",
    "\n",
    "sock.send(b\"Hello, server\")\n",
    "\n",
    "try:\n",
    "    connection = sock.recv(2048)\n",
    "    data = connection.decode('utf-8')\n",
    "    print('Recived:', data)\n",
    "except ConnectionResetError:\n",
    "    print(\"Could not connect to the server\")\n",
    "\n",
    "sock.close()\n"
   ]
  },
  {
   "cell_type": "markdown",
   "metadata": {},
   "source": [
    "## Задание 2\n",
    "\n",
    "### Описание\n",
    "\n",
    "Реализовать клиентскую и серверную часть приложения. Клиент запрашивает у\n",
    "сервера выполнение математической операции, параметры, которые вводятся с\n",
    "клавиатуры. Сервер обрабатывает полученные данные и возвращает результат\n",
    "клиенту. Варианты:\n",
    "\n",
    "1. **Теорема Пифагора**\n",
    "2. Решение квадратного уравнения.\n",
    "3. Поиск площади трапеции.\n",
    "4. Поиск площади параллелограмма.\n",
    "\n",
    "Вариант выбирается в соответствии с порядковым номером в журнале. Пятый\n",
    "студент получает вариант 1 и т.д.\n",
    "\n",
    "- Обязательно использовать библиотеку `socket`\n",
    "- Реализовать с помощью протокола TCP"
   ]
  },
  {
   "cell_type": "markdown",
   "metadata": {},
   "source": [
    "### Код\n",
    "#### Server"
   ]
  },
  {
   "cell_type": "code",
   "execution_count": 19,
   "metadata": {},
   "outputs": [
    {
     "name": "stdout",
     "output_type": "stream",
     "text": [
      "Started server at tcp://127.0.0.1:12346\n",
      "Stopping server...\n"
     ]
    }
   ],
   "source": [
    "# %load \"Task 2/server.py\"\n",
    "import socket\n",
    "from math import sqrt\n",
    "\n",
    "\n",
    "def calc_pythagorean_equation(solveFor, x, y):\n",
    "    solution = None\n",
    "    x = float(x)\n",
    "    y = float(y)\n",
    "    \n",
    "    if solveFor == \"a\":\n",
    "        solution = sqrt(y**2 - x**2)\n",
    "    elif solveFor == \"b\":\n",
    "        solution = sqrt(y**2 - x**2)\n",
    "    else:\n",
    "        solution = sqrt(x**2 + y**2)\n",
    "    return solution\n",
    "\n",
    "\n",
    "# TCP\n",
    "sock = socket.socket(socket.AF_INET, socket.SOCK_STREAM)\n",
    "# Ensures that port is always ready to be used again\n",
    "sock.setsockopt(socket.SOL_SOCKET, socket.SO_REUSEADDR, 1)\n",
    "sock.bind(('localhost', 12346))\n",
    "\n",
    "\n",
    "# Makes keyboard interrupt possible at all times\n",
    "sock.settimeout(1.0)\n",
    "sock.listen(10)\n",
    "\n",
    "print(\n",
    "    f\"Started server at tcp://{sock.getsockname()[0]}:{sock.getsockname()[1]}\")\n",
    "\n",
    "while True:\n",
    "    try:\n",
    "        connection, client_address = None, None\n",
    "        try:\n",
    "            connection, client_address = sock.accept()\n",
    "        # Handle timeout\n",
    "        except IOError:\n",
    "            continue\n",
    "        data = connection.recv(2048)\n",
    "        data = data.decode('utf-8')\n",
    "        print('Recived:\\n' + data)\n",
    "\n",
    "        solveFor, x, y, _ = data.split(\"\\n\")\n",
    "        solution = calc_pythagorean_equation(solveFor, x, y)\n",
    "\n",
    "        print(\"Sending response:\", solution)\n",
    "        connection.send(str(solution).encode('utf-8'))\n",
    "\n",
    "    except KeyboardInterrupt:\n",
    "        print(\"Stopping server...\")\n",
    "        if connection:\n",
    "            connection.close()\n",
    "        break\n",
    "sock.close()\n"
   ]
  },
  {
   "cell_type": "markdown",
   "metadata": {},
   "source": [
    "#### Client\n",
    "Так как Jupyter не хочет запускать cells в параллели, клиент запускается через командную строку:"
   ]
  },
  {
   "cell_type": "markdown",
   "metadata": {},
   "source": [
    "python \"./students/k33401/Reingeverts_Vadim/Lr1/Task 2/client.py\""
   ]
  },
  {
   "cell_type": "code",
   "execution_count": 20,
   "metadata": {},
   "outputs": [
    {
     "name": "stdout",
     "output_type": "stream",
     "text": [
      "Could not connect to the server\n"
     ]
    }
   ],
   "source": [
    "# %load \"Task 2/client.py\"\n",
    "import socket\n",
    "\n",
    "\n",
    "def get_decimal_input(decimalName):\n",
    "    decimalNum = None\n",
    "    while True:\n",
    "        try:\n",
    "            decimalNum = float(input(f\"Enter value for {decimalName}: \"))\n",
    "        except ValueError:\n",
    "            print(\"Not a number.\")\n",
    "            continue\n",
    "        if decimalNum < 0:\n",
    "            print(f\"{decimalName} must be a positive number.\")\n",
    "            continue\n",
    "        else:\n",
    "            break\n",
    "    return decimalNum\n",
    "\n",
    "\n",
    "# TCP\n",
    "sock = socket.socket(socket.AF_INET, socket.SOCK_STREAM)\n",
    "try:\n",
    "    sock.connect(('localhost', 12346))\n",
    "\n",
    "    print(\"\\nPythagorean theorem solver.\")\n",
    "    print(\"\"\"\n",
    "        +\n",
    "        |\\\\\n",
    "        | \\\\ C\n",
    "      A |  \\\\\n",
    "        |   \\\\\n",
    "        +----+\n",
    "           B\n",
    "    \"\"\")\n",
    "    message = \"\"\n",
    "    option1 = \"\"\n",
    "    while True:\n",
    "        option1 = input(\"Choose to solve for (A, B or C): \").lower()\n",
    "        if option1 not in ('a', 'b', 'c'):\n",
    "            print(\"Not an appropriate choice.\")\n",
    "        else:\n",
    "            message += option1 + \"\\n\"\n",
    "            break\n",
    "    if (option1 == \"a\"):\n",
    "        b = get_decimal_input(\"B\")\n",
    "        c = get_decimal_input(\"C\")\n",
    "\n",
    "        message += str(b) + \"\\n\"\n",
    "        message += str(c) + \"\\n\"\n",
    "\n",
    "    elif (option1 == \"b\"):\n",
    "        a = get_decimal_input(\"A\")\n",
    "        c = get_decimal_input(\"C\")\n",
    "\n",
    "        message += str(a) + \"\\n\"\n",
    "        message += str(c) + \"\\n\"\n",
    "    else:\n",
    "        a = get_decimal_input(\"A\")\n",
    "        b = get_decimal_input(\"B\")\n",
    "\n",
    "        message += str(a) + \"\\n\"\n",
    "        message += str(b) + \"\\n\"\n",
    "\n",
    "    sock.send(message.encode(\"utf-8\"))\n",
    "    connection = sock.recv(2048)\n",
    "    data = connection.decode('utf-8')\n",
    "\n",
    "    print(f'\\nSolution for {option1.upper()} is:', data)\n",
    "except ConnectionRefusedError:\n",
    "    print(\"Could not connect to the server\")\n",
    "\n",
    "\n",
    "sock.close()\n"
   ]
  },
  {
   "cell_type": "markdown",
   "metadata": {},
   "source": [
    "## Задание 3\n",
    "\n",
    "### Описание\n",
    "\n",
    "Реализовать серверную часть приложения. Клиент подключается к серверу. В ответ\n",
    "клиент получает http-сообщение, содержащее html-страницу, которую сервер\n",
    "подгружает из файла `index.html`.\n",
    "\n",
    "\n",
    "Полезные ссылки:\n",
    "-  http://zetcode.com/python/socket/\n",
    "- Обязательно использовать библиотеку `socket`"
   ]
  },
  {
   "cell_type": "markdown",
   "metadata": {},
   "source": [
    "### Код\n",
    "#### Server"
   ]
  },
  {
   "cell_type": "code",
   "execution_count": 21,
   "metadata": {},
   "outputs": [
    {
     "name": "stdout",
     "output_type": "stream",
     "text": [
      "Started server at http://127.0.0.1:65188\n",
      "Incoming connection from: ('127.0.0.1', 65189)\n",
      "Stopping server...\n"
     ]
    }
   ],
   "source": [
    "# %load \"Task 3/server.py\"\n",
    "import socket\n",
    "from os import path\n",
    "from pathlib import Path\n",
    "import webbrowser\n",
    "\n",
    "# Makes consistent path to work directory in case of\n",
    "# 1. Running .py file directly `python server.py`\n",
    "# 2. Running .py file from another directory `python ./someComplicatedPath/server.py`\n",
    "# 3. Running cell from .ipynb notebook\n",
    "\n",
    "curr_dirname = None\n",
    "ipynb_path = \"./Task 3\"\n",
    "if \"__file__\" in globals():\n",
    "    dirname = path.dirname(__file__)\n",
    "else:\n",
    "    dirname = path.abspath(\"\") + ipynb_path\n",
    "\n",
    "index_file = Path(dirname) / 'index.html'\n",
    "# TCP\n",
    "sock = socket.socket(socket.AF_INET, socket.SOCK_STREAM)\n",
    "# Ensures that port is always ready to be used again\n",
    "sock.setsockopt(socket.SOL_SOCKET, socket.SO_REUSEADDR, 1)\n",
    "sock.bind(('localhost', 0))\n",
    "\n",
    "# Makes keyboard interrupt possible at all times\n",
    "sock.settimeout(1.0)\n",
    "sock.listen(10)\n",
    "\n",
    "url = f'http://{sock.getsockname()[0]}:{sock.getsockname()[1]}'\n",
    "print(\n",
    "    f\"Started server at {url}\")\n",
    "webbrowser.open(url)\n",
    "\n",
    "while True:\n",
    "    try:\n",
    "        connection, client_address = None, None\n",
    "        try:\n",
    "            connection, client_address = sock.accept()\n",
    "        # Handle timeout\n",
    "        except IOError:\n",
    "            continue\n",
    "\n",
    "        print(\"Incoming connection from:\", client_address)\n",
    "\n",
    "        response_type = \"HTTP/1.1 200 OK\\n\"\n",
    "        headers = \"Content-Type: text/html; charset=utf-8\\n\\n\"\n",
    "        \n",
    "        body = None\n",
    "        with open(index_file, 'r', encoding=\"utf-8\") as file:\n",
    "            body = file.read()\n",
    "            \n",
    "        response = response_type + headers + body\n",
    "        connection.sendall(response.encode('utf-8'))\n",
    "\n",
    "    except KeyboardInterrupt:\n",
    "        print(\"Stopping server...\")\n",
    "        if connection:\n",
    "            connection.close()\n",
    "        break\n",
    "sock.close()\n"
   ]
  },
  {
   "cell_type": "markdown",
   "metadata": {},
   "source": [
    "## Задание 5\n",
    "\n",
    "### Описание\n",
    "\n",
    "Необходимо написать простой web-сервер для обработки GET и POST http\n",
    "запросов средствами Python и библиотеки socket.\n",
    "\n",
    "Базовый класс для простейшей реализации web-сервера доступен\n",
    "[Google Doc](https://docs.google.com/document/d/1lv_3D9VtMxz8tNkA6rA1xu9zaWEIBGXiLWBo1cse-0k/edit?usp=sharing)\n",
    "\n",
    "Подробный мануал по работе доступен\n",
    "[iximiuz - Python Web Server](https://iximiuz.com/ru/posts/writing-python-web-server-part-3/)\n",
    "\n",
    "Задание: сделать сервер, который может:\n",
    "- Принять и записать информацию о дисциплине и оценке по дисциплине.\n",
    "- Отдать информацию обо всех оценах по дисциплине в виде html-страницы."
   ]
  },
  {
   "cell_type": "markdown",
   "metadata": {},
   "source": [
    "### Код\n",
    "#### Server"
   ]
  },
  {
   "cell_type": "code",
   "execution_count": 17,
   "metadata": {},
   "outputs": [
    {
     "name": "stdout",
     "output_type": "stream",
     "text": [
      "this is not main\n"
     ]
    }
   ],
   "source": [
    "# %load \"Task 5/server.py\"\n",
    "import socket\n",
    "import sys\n",
    "\n",
    "\n",
    "class MyHTTPServer:\n",
    "    # Параметры сервера\n",
    "\n",
    "    def __init__(self, host, port, name):\n",
    "        self.host = host\n",
    "        self.port = port\n",
    "        self.name = name\n",
    "\n",
    "    def serve_forever(self):\n",
    "        # 1. Запуск сервера на сокете, обработка входящих соединений\n",
    "        pass\n",
    "\n",
    "    def serve_client(self):\n",
    "        # 2. Обработка клиентского подключения\n",
    "        pass\n",
    "\n",
    "    def parse_request(self):\n",
    "        # 3. функция для обработки заголовка http+запроса. Python, сокет\n",
    "        # предоставляет возможность создать вокруг него некоторую обертку,\n",
    "        # которая предоставляет file object интерфейс. Это дайте возможность\n",
    "        # построчно обработать запрос. Заголовок всегда - первая строка.\n",
    "        # Первую строку нужно разбить на 3 элемента  (метод + url + версия протокола).\n",
    "        # URL необходимо разбить на адрес и параметры (isu.ifmo.ru/pls/apex/f?p=2143,\n",
    "        # где isu.ifmo.ru/pls/apex/f, а p=2143 - параметр p со значением 2143)\n",
    "        pass\n",
    "\n",
    "    def parse_headers(self):\n",
    "        # 4. Функция для обработки headers. Необходимо прочитать все заголовки после\n",
    "        # первой строки до появления пустой строки и сохранить их в массив.\n",
    "        pass\n",
    "\n",
    "    def handle_request(self):\n",
    "        # 5. Функция для обработки url в соответствии с нужным методом. В случае\n",
    "        # данной работы, нужно будет создать набор условий, который обрабатывает GET\n",
    "        # или POST запрос. GET запрос должен возвращать данные. POST запрос должен\n",
    "        # записывать данные на основе переданных параметров.\n",
    "        pass\n",
    "\n",
    "    def send_response(self):\n",
    "        # 6. Функция для отправки ответа. Необходимо записать в соединение status line\n",
    "        # вида HTTP/1.1 <status_code> <reason>. Затем, построчно записать заголовки и\n",
    "        # пустую строку, обозначающую конец секции заголовков.\n",
    "        pass\n",
    "\n",
    "\n",
    "if __name__ == '__main__':\n",
    "    host = \"localhost\"\n",
    "    port = \"12346\"\n",
    "    name = \"My Python Server\"\n",
    "    serv = MyHTTPServer(host, port, name)\n",
    "    try:\n",
    "        serv.serve_forever()\n",
    "    except KeyboardInterrupt:\n",
    "        pass\n"
   ]
  }
 ],
 "metadata": {
  "kernelspec": {
   "display_name": "Python 3.7.4 64-bit",
   "language": "python",
   "name": "python3"
  },
  "language_info": {
   "codemirror_mode": {
    "name": "ipython",
    "version": 3
   },
   "file_extension": ".py",
   "mimetype": "text/x-python",
   "name": "python",
   "nbconvert_exporter": "python",
   "pygments_lexer": "ipython3",
   "version": "3.7.4"
  },
  "orig_nbformat": 4,
  "vscode": {
   "interpreter": {
    "hash": "5109d816b82be14675a6b11f8e0f0d2e80f029176ed3710d54e125caa8520dfd"
   }
  }
 },
 "nbformat": 4,
 "nbformat_minor": 2
}
