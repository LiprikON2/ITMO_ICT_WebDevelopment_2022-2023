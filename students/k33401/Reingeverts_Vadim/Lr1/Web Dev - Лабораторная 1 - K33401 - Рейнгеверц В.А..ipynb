{
 "cells": [
  {
   "cell_type": "markdown",
   "metadata": {},
   "source": [
    "# Лабораторная работа 1\n",
    "\n",
    "## Задание 1\n",
    "\n",
    "### Описание\n",
    "\n",
    "Реализовать клиентскую и серверную часть приложения. Клиент отсылает серверу\n",
    "сообщение «Hello, server». Сообщение должно отразиться на стороне сервера.\n",
    "Сервер в ответ отсылает клиенту сообщение «Hello, client». Сообщение должно\n",
    "отобразиться у клиента.\n",
    "\n",
    "- Обязательно использовать библиотеку socket\n",
    "- Реализовать с помощью протокола UDP\n",
    "\n",
    "Полезные ссылки:\n",
    "-  https://habr.com/ru/post/149077/\n",
    "-  https://andreymal.org/socket3/\n",
    "-  https://docs.python.org/3.6/howto/sockets.html\n",
    "-  https://docs.python.org/3.6/library/socket.html\n",
    "-  https://www.youtube.com/watch?v=Lbfe3-v7yE0"
   ]
  },
  {
   "cell_type": "markdown",
   "metadata": {},
   "source": [
    "### Код"
   ]
  },
  {
   "cell_type": "markdown",
   "metadata": {},
   "source": [
    "### Server"
   ]
  },
  {
   "cell_type": "code",
   "execution_count": 49,
   "metadata": {},
   "outputs": [
    {
     "name": "stdout",
     "output_type": "stream",
     "text": [
      "Started server at ('127.0.0.1', 12346)\n",
      "Recived: Hello, server\n",
      "Recived: Hello, server\n",
      "Recived: Hello, server\n",
      "Recived: Hello, server\n",
      "Recived: Hello, server\n",
      "Stopping server...\n"
     ]
    }
   ],
   "source": [
    "%load \"Task 1/server.py\"\n",
    "\n"
   ]
  },
  {
   "cell_type": "markdown",
   "metadata": {},
   "source": [
    "#### Client"
   ]
  },
  {
   "cell_type": "markdown",
   "metadata": {},
   "source": [
    "Так как Jupyter не хочет запускать cells в параллели, клиент запускается через коммандную строку:"
   ]
  },
  {
   "cell_type": "markdown",
   "metadata": {},
   "source": [
    "python \"./students/k33401/Reingeverts_Vadim/Lr1/Task 1/client.py\""
   ]
  },
  {
   "cell_type": "code",
   "execution_count": 27,
   "metadata": {},
   "outputs": [
    {
     "name": "stdout",
     "output_type": "stream",
     "text": [
      "Stopping server...\n"
     ]
    }
   ],
   "source": [
    "%load \"Task 1/client.py\"\n",
    "import socket\n",
    "\n",
    "\n",
    "# UDP\n",
    "sock = socket.socket(socket.AF_INET, socket.SOCK_DGRAM)\n",
    "# Ensures that port is always ready to be used again\n",
    "sock.setsockopt(socket.SOL_SOCKET, socket.SO_REUSEADDR, 1)\n",
    "sock.bind(('localhost', 12346))\n",
    "\n",
    "# Makes keyboard interrupt possible at all times\n",
    "sock.settimeout(1.0)\n",
    "\n",
    "while True:\n",
    "    try:\n",
    "        connection, client_address = None, None\n",
    "        try:\n",
    "            connection, client_address = sock.recvfrom(2048)\n",
    "        # Handle timeout\n",
    "        except IOError:\n",
    "            continue\n",
    "\n",
    "        data = connection.decode('utf-8')\n",
    "        print('Recived:', data)\n",
    "\n",
    "        sock.sendto(b\"Hello, client\", client_address)\n",
    "\n",
    "    except KeyboardInterrupt:\n",
    "        print(\"Stopping server...\")\n",
    "        if connection:\n",
    "            connection.close()\n",
    "        break\n",
    "sock.close()"
   ]
  }
 ],
 "metadata": {
  "kernelspec": {
   "display_name": "Python 3.7.4 64-bit",
   "language": "python",
   "name": "python3"
  },
  "language_info": {
   "codemirror_mode": {
    "name": "ipython",
    "version": 3
   },
   "file_extension": ".py",
   "mimetype": "text/x-python",
   "name": "python",
   "nbconvert_exporter": "python",
   "pygments_lexer": "ipython3",
   "version": "3.7.4"
  },
  "orig_nbformat": 4,
  "vscode": {
   "interpreter": {
    "hash": "5109d816b82be14675a6b11f8e0f0d2e80f029176ed3710d54e125caa8520dfd"
   }
  }
 },
 "nbformat": 4,
 "nbformat_minor": 2
}
